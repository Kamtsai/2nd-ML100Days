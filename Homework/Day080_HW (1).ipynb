{
  "nbformat": 4,
  "nbformat_minor": 0,
  "metadata": {
    "kernelspec": {
      "name": "python3",
      "display_name": "Python 3"
    },
    "language_info": {
      "codemirror_mode": {
        "name": "ipython",
        "version": 3
      },
      "file_extension": ".py",
      "mimetype": "text/x-python",
      "name": "python",
      "nbconvert_exporter": "python",
      "pygments_lexer": "ipython3",
      "version": "3.6.5"
    },
    "colab": {
      "name": "Day080_HW.ipynb",
      "version": "0.3.2",
      "provenance": [],
      "collapsed_sections": []
    },
    "accelerator": "GPU"
  },
  "cells": [
    {
      "cell_type": "markdown",
      "metadata": {
        "id": "vKHaOS_ZK8vf",
        "colab_type": "text"
      },
      "source": [
        "# 請結合前面的知識與程式碼，比較不同的 optimizer 與 learning rate 組合對訓練的結果與影響\n",
        "### 常見的 optimizer 包含\n",
        "* SGD\n",
        "* RMSprop\n",
        "* AdaGrad\n",
        "* Adam"
      ]
    },
    {
      "cell_type": "code",
      "metadata": {
        "id": "ADkheP24K8vh",
        "colab_type": "code",
        "colab": {}
      },
      "source": [
        "import os\n",
        "import keras\n",
        "\n",
        "# Disable GPU\n",
        "os.environ[\"CUDA_VISIBLE_DEVICES\"] = \"0\""
      ],
      "execution_count": 0,
      "outputs": []
    },
    {
      "cell_type": "code",
      "metadata": {
        "id": "n_xoBVOWK8vm",
        "colab_type": "code",
        "colab": {}
      },
      "source": [
        "train, test = keras.datasets.cifar10.load_data()"
      ],
      "execution_count": 0,
      "outputs": []
    },
    {
      "cell_type": "code",
      "metadata": {
        "id": "1TrKdhwBK8vq",
        "colab_type": "code",
        "colab": {}
      },
      "source": [
        "## 資料前處理\n",
        "def preproc_x(x, flatten=True):\n",
        "    x = x / 255.\n",
        "    if flatten:\n",
        "        x = x.reshape((len(x), -1))\n",
        "    return x\n",
        "\n",
        "def preproc_y(y, num_classes=10):\n",
        "    if y.shape[-1] == 1:\n",
        "        y = keras.utils.to_categorical(y, num_classes)\n",
        "    return y    "
      ],
      "execution_count": 0,
      "outputs": []
    },
    {
      "cell_type": "code",
      "metadata": {
        "id": "oy9_P_72K8vv",
        "colab_type": "code",
        "colab": {}
      },
      "source": [
        "x_train, y_train = train\n",
        "x_test, y_test = test\n",
        "\n",
        "# Preproc the inputs\n",
        "x_train = preproc_x(x_train)\n",
        "x_test = preproc_x(x_test)\n",
        "\n",
        "# Preprc the outputs\n",
        "y_train = preproc_y(y_train)\n",
        "y_test = preproc_y(y_test)"
      ],
      "execution_count": 0,
      "outputs": []
    },
    {
      "cell_type": "code",
      "metadata": {
        "id": "wJwc10i3K8vz",
        "colab_type": "code",
        "colab": {}
      },
      "source": [
        "def build_mlp(input_shape, output_units=10, num_neurons=[512, 256, 128]):\n",
        "    input_layer = keras.layers.Input(input_shape)\n",
        "    \n",
        "    for i, n_units in enumerate(num_neurons):\n",
        "        if i == 0:\n",
        "            x = keras.layers.Dense(units=n_units, activation=\"relu\", name=\"hidden_layer\"+str(i+1))(input_layer)\n",
        "        else:\n",
        "            x = keras.layers.Dense(units=n_units, activation=\"relu\", name=\"hidden_layer\"+str(i+1))(x)\n",
        "    \n",
        "    out = keras.layers.Dense(units=output_units, activation=\"softmax\", name=\"output\")(x)\n",
        "    \n",
        "    model = keras.models.Model(inputs=[input_layer], outputs=[out])\n",
        "    return model"
      ],
      "execution_count": 0,
      "outputs": []
    },
    {
      "cell_type": "code",
      "metadata": {
        "id": "jlWZMZ7EK8v2",
        "colab_type": "code",
        "colab": {}
      },
      "source": [
        "## 超參數設定\n",
        "LEARNING_RATE = [1e-1, 1e-2, 1e-3, 1e-4, 1e-5]\n",
        "EPOCHS = 50\n",
        "BATCH_SIZE = 256\n",
        "MOMENTUM = 0.95\n"
      ],
      "execution_count": 0,
      "outputs": []
    },
    {
      "cell_type": "code",
      "metadata": {
        "id": "RYd0GmEGQmHT",
        "colab_type": "code",
        "colab": {
          "base_uri": "https://localhost:8080/",
          "height": 1000
        },
        "outputId": "bdf43bdb-4ac2-46f9-8611-b88c91246374"
      },
      "source": [
        "keras.backend.clear_session() # 把舊的 Graph 清掉\n",
        "print(\"Experiment with LR = %.6f\" % (1e-5))\n",
        "model = build_mlp(input_shape=x_train.shape[1:])\n",
        "model.summary()\n",
        "optimizer = keras.optimizers.SGD(lr=1e-5, nesterov=True, momentum=MOMENTUM)\n",
        "model.compile(loss=\"categorical_crossentropy\", metrics=[\"accuracy\"], optimizer=optimizer)\n",
        "\n",
        "model.fit(x_train, y_train, \n",
        "          epochs=EPOCHS, \n",
        "          batch_size=BATCH_SIZE, \n",
        "          validation_data=(x_test, y_test), \n",
        "          shuffle=True)"
      ],
      "execution_count": 22,
      "outputs": [
        {
          "output_type": "stream",
          "text": [
            "W0731 09:00:36.317759 140267593697152 deprecation_wrapper.py:119] From /usr/local/lib/python3.6/dist-packages/keras/optimizers.py:790: The name tf.train.Optimizer is deprecated. Please use tf.compat.v1.train.Optimizer instead.\n",
            "\n",
            "W0731 09:00:36.414959 140267593697152 deprecation.py:323] From /usr/local/lib/python3.6/dist-packages/tensorflow/python/ops/math_grad.py:1250: add_dispatch_support.<locals>.wrapper (from tensorflow.python.ops.array_ops) is deprecated and will be removed in a future version.\n",
            "Instructions for updating:\n",
            "Use tf.where in 2.0, which has the same broadcast rule as np.where\n"
          ],
          "name": "stderr"
        },
        {
          "output_type": "stream",
          "text": [
            "Experiment with LR = 0.000010\n",
            "_________________________________________________________________\n",
            "Layer (type)                 Output Shape              Param #   \n",
            "=================================================================\n",
            "input_1 (InputLayer)         (None, 3072)              0         \n",
            "_________________________________________________________________\n",
            "hidden_layer1 (Dense)        (None, 512)               1573376   \n",
            "_________________________________________________________________\n",
            "hidden_layer2 (Dense)        (None, 256)               131328    \n",
            "_________________________________________________________________\n",
            "hidden_layer3 (Dense)        (None, 128)               32896     \n",
            "_________________________________________________________________\n",
            "output (Dense)               (None, 10)                1290      \n",
            "=================================================================\n",
            "Total params: 1,738,890\n",
            "Trainable params: 1,738,890\n",
            "Non-trainable params: 0\n",
            "_________________________________________________________________\n",
            "Train on 50000 samples, validate on 10000 samples\n",
            "Epoch 1/50\n",
            "50000/50000 [==============================] - 3s 59us/step - loss: 2.3331 - acc: 0.0889 - val_loss: 2.3055 - val_acc: 0.0893\n",
            "Epoch 2/50\n",
            "50000/50000 [==============================] - 2s 37us/step - loss: 2.2896 - acc: 0.1137 - val_loss: 2.2798 - val_acc: 0.1264\n",
            "Epoch 3/50\n",
            "50000/50000 [==============================] - 2s 37us/step - loss: 2.2681 - acc: 0.1430 - val_loss: 2.2609 - val_acc: 0.1531\n",
            "Epoch 4/50\n",
            "50000/50000 [==============================] - 2s 35us/step - loss: 2.2512 - acc: 0.1640 - val_loss: 2.2448 - val_acc: 0.1714\n",
            "Epoch 5/50\n",
            "50000/50000 [==============================] - 2s 35us/step - loss: 2.2360 - acc: 0.1807 - val_loss: 2.2301 - val_acc: 0.1822\n",
            "Epoch 6/50\n",
            "50000/50000 [==============================] - 2s 35us/step - loss: 2.2219 - acc: 0.1914 - val_loss: 2.2160 - val_acc: 0.1946\n",
            "Epoch 7/50\n",
            "50000/50000 [==============================] - 2s 35us/step - loss: 2.2083 - acc: 0.2038 - val_loss: 2.2027 - val_acc: 0.2050\n",
            "Epoch 8/50\n",
            "50000/50000 [==============================] - 2s 35us/step - loss: 2.1954 - acc: 0.2110 - val_loss: 2.1898 - val_acc: 0.2157\n",
            "Epoch 9/50\n",
            "50000/50000 [==============================] - 2s 35us/step - loss: 2.1831 - acc: 0.2206 - val_loss: 2.1777 - val_acc: 0.2222\n",
            "Epoch 10/50\n",
            "50000/50000 [==============================] - 2s 35us/step - loss: 2.1714 - acc: 0.2260 - val_loss: 2.1660 - val_acc: 0.2314\n",
            "Epoch 11/50\n",
            "50000/50000 [==============================] - 2s 35us/step - loss: 2.1601 - acc: 0.2351 - val_loss: 2.1549 - val_acc: 0.2369\n",
            "Epoch 12/50\n",
            "50000/50000 [==============================] - 2s 35us/step - loss: 2.1492 - acc: 0.2410 - val_loss: 2.1441 - val_acc: 0.2430\n",
            "Epoch 13/50\n",
            "50000/50000 [==============================] - 2s 35us/step - loss: 2.1386 - acc: 0.2487 - val_loss: 2.1335 - val_acc: 0.2488\n",
            "Epoch 14/50\n",
            "50000/50000 [==============================] - 2s 36us/step - loss: 2.1282 - acc: 0.2549 - val_loss: 2.1233 - val_acc: 0.2530\n",
            "Epoch 15/50\n",
            "50000/50000 [==============================] - 2s 36us/step - loss: 2.1182 - acc: 0.2606 - val_loss: 2.1134 - val_acc: 0.2579\n",
            "Epoch 16/50\n",
            "50000/50000 [==============================] - 2s 35us/step - loss: 2.1086 - acc: 0.2661 - val_loss: 2.1039 - val_acc: 0.2642\n",
            "Epoch 17/50\n",
            "50000/50000 [==============================] - 2s 34us/step - loss: 2.0992 - acc: 0.2699 - val_loss: 2.0947 - val_acc: 0.2688\n",
            "Epoch 18/50\n",
            "50000/50000 [==============================] - 2s 35us/step - loss: 2.0902 - acc: 0.2746 - val_loss: 2.0858 - val_acc: 0.2731\n",
            "Epoch 19/50\n",
            "50000/50000 [==============================] - 2s 35us/step - loss: 2.0816 - acc: 0.2781 - val_loss: 2.0774 - val_acc: 0.2771\n",
            "Epoch 20/50\n",
            "50000/50000 [==============================] - 2s 35us/step - loss: 2.0732 - acc: 0.2802 - val_loss: 2.0692 - val_acc: 0.2791\n",
            "Epoch 21/50\n",
            "50000/50000 [==============================] - 2s 35us/step - loss: 2.0652 - acc: 0.2840 - val_loss: 2.0613 - val_acc: 0.2839\n",
            "Epoch 22/50\n",
            "50000/50000 [==============================] - 2s 35us/step - loss: 2.0575 - acc: 0.2865 - val_loss: 2.0538 - val_acc: 0.2872\n",
            "Epoch 23/50\n",
            "50000/50000 [==============================] - 2s 35us/step - loss: 2.0501 - acc: 0.2899 - val_loss: 2.0465 - val_acc: 0.2893\n",
            "Epoch 24/50\n",
            "50000/50000 [==============================] - 2s 35us/step - loss: 2.0430 - acc: 0.2915 - val_loss: 2.0395 - val_acc: 0.2923\n",
            "Epoch 25/50\n",
            "50000/50000 [==============================] - 2s 35us/step - loss: 2.0362 - acc: 0.2944 - val_loss: 2.0328 - val_acc: 0.2937\n",
            "Epoch 26/50\n",
            "50000/50000 [==============================] - 2s 35us/step - loss: 2.0296 - acc: 0.2963 - val_loss: 2.0264 - val_acc: 0.2983\n",
            "Epoch 27/50\n",
            "50000/50000 [==============================] - 2s 35us/step - loss: 2.0234 - acc: 0.2983 - val_loss: 2.0203 - val_acc: 0.3007\n",
            "Epoch 28/50\n",
            "50000/50000 [==============================] - 2s 35us/step - loss: 2.0174 - acc: 0.3013 - val_loss: 2.0142 - val_acc: 0.3042\n",
            "Epoch 29/50\n",
            "50000/50000 [==============================] - 2s 35us/step - loss: 2.0114 - acc: 0.3039 - val_loss: 2.0084 - val_acc: 0.3040\n",
            "Epoch 30/50\n",
            "50000/50000 [==============================] - 2s 34us/step - loss: 2.0057 - acc: 0.3048 - val_loss: 2.0028 - val_acc: 0.3056\n",
            "Epoch 31/50\n",
            "50000/50000 [==============================] - 2s 35us/step - loss: 2.0002 - acc: 0.3073 - val_loss: 1.9973 - val_acc: 0.3077\n",
            "Epoch 32/50\n",
            "50000/50000 [==============================] - 2s 35us/step - loss: 1.9949 - acc: 0.3091 - val_loss: 1.9921 - val_acc: 0.3095\n",
            "Epoch 33/50\n",
            "50000/50000 [==============================] - 2s 35us/step - loss: 1.9897 - acc: 0.3119 - val_loss: 1.9870 - val_acc: 0.3108\n",
            "Epoch 34/50\n",
            "50000/50000 [==============================] - 2s 34us/step - loss: 1.9847 - acc: 0.3136 - val_loss: 1.9820 - val_acc: 0.3128\n",
            "Epoch 35/50\n",
            "50000/50000 [==============================] - 2s 35us/step - loss: 1.9798 - acc: 0.3155 - val_loss: 1.9773 - val_acc: 0.3145\n",
            "Epoch 36/50\n",
            "50000/50000 [==============================] - 2s 35us/step - loss: 1.9751 - acc: 0.3171 - val_loss: 1.9726 - val_acc: 0.3166\n",
            "Epoch 37/50\n",
            "50000/50000 [==============================] - 2s 35us/step - loss: 1.9704 - acc: 0.3188 - val_loss: 1.9679 - val_acc: 0.3185\n",
            "Epoch 38/50\n",
            "50000/50000 [==============================] - 2s 35us/step - loss: 1.9659 - acc: 0.3212 - val_loss: 1.9636 - val_acc: 0.3198\n",
            "Epoch 39/50\n",
            "50000/50000 [==============================] - 2s 35us/step - loss: 1.9615 - acc: 0.3218 - val_loss: 1.9592 - val_acc: 0.3209\n",
            "Epoch 40/50\n",
            "50000/50000 [==============================] - 2s 34us/step - loss: 1.9572 - acc: 0.3232 - val_loss: 1.9550 - val_acc: 0.3219\n",
            "Epoch 41/50\n",
            "50000/50000 [==============================] - 2s 35us/step - loss: 1.9531 - acc: 0.3251 - val_loss: 1.9510 - val_acc: 0.3230\n",
            "Epoch 42/50\n",
            "50000/50000 [==============================] - 2s 35us/step - loss: 1.9490 - acc: 0.3259 - val_loss: 1.9471 - val_acc: 0.3238\n",
            "Epoch 43/50\n",
            "50000/50000 [==============================] - 2s 35us/step - loss: 1.9452 - acc: 0.3283 - val_loss: 1.9432 - val_acc: 0.3255\n",
            "Epoch 44/50\n",
            "50000/50000 [==============================] - 2s 35us/step - loss: 1.9413 - acc: 0.3286 - val_loss: 1.9394 - val_acc: 0.3267\n",
            "Epoch 45/50\n",
            "50000/50000 [==============================] - 2s 34us/step - loss: 1.9376 - acc: 0.3296 - val_loss: 1.9358 - val_acc: 0.3286\n",
            "Epoch 46/50\n",
            "50000/50000 [==============================] - 2s 35us/step - loss: 1.9339 - acc: 0.3308 - val_loss: 1.9323 - val_acc: 0.3300\n",
            "Epoch 47/50\n",
            "50000/50000 [==============================] - 2s 35us/step - loss: 1.9303 - acc: 0.3324 - val_loss: 1.9288 - val_acc: 0.3314\n",
            "Epoch 48/50\n",
            "50000/50000 [==============================] - 2s 35us/step - loss: 1.9269 - acc: 0.3337 - val_loss: 1.9255 - val_acc: 0.3341\n",
            "Epoch 49/50\n",
            "50000/50000 [==============================] - 2s 35us/step - loss: 1.9235 - acc: 0.3348 - val_loss: 1.9222 - val_acc: 0.3326\n",
            "Epoch 50/50\n",
            "50000/50000 [==============================] - 2s 35us/step - loss: 1.9203 - acc: 0.3356 - val_loss: 1.9190 - val_acc: 0.3352\n"
          ],
          "name": "stdout"
        },
        {
          "output_type": "execute_result",
          "data": {
            "text/plain": [
              "<keras.callbacks.History at 0x7f924d76add8>"
            ]
          },
          "metadata": {
            "tags": []
          },
          "execution_count": 22
        }
      ]
    },
    {
      "cell_type": "code",
      "metadata": {
        "id": "fr-rVRnAQoI5",
        "colab_type": "code",
        "colab": {}
      },
      "source": [
        "# Collect results\n",
        "train_loss = model.history.history[\"loss\"]\n",
        "valid_loss = model.history.history[\"val_loss\"]\n",
        "train_acc = model.history.history[\"acc\"]\n",
        "valid_acc = model.history.history[\"val_acc\"]\n",
        "    \n",
        "exp_name_tag = \"exp-lr-%s\" % str(1e-5)\n",
        "results[exp_name_tag] = {'train_loss': train_loss,\n",
        "                         'valid_loss': valid_loss,\n",
        "                         'train_acc': train_acc,\n",
        "                         'valid_acc': valid_acc }\n"
      ],
      "execution_count": 0,
      "outputs": []
    },
    {
      "cell_type": "code",
      "metadata": {
        "id": "39HL0dMkK8v_",
        "colab_type": "code",
        "colab": {
          "base_uri": "https://localhost:8080/",
          "height": 763
        },
        "outputId": "ed4465bf-fe2d-41e2-f89d-477bd2a74d0b"
      },
      "source": [
        "\n",
        "\n",
        "import matplotlib.pyplot as plt\n",
        "%matplotlib inline\n",
        "color_bar = [\"r\", \"g\", \"b\", \"y\", \"m\", \"k\"]\n",
        "\n",
        "plt.figure(figsize=(8,6))\n",
        "for i, cond in enumerate(results.keys()):\n",
        "    plt.plot(range(len(results[cond]['train_loss'])),results[cond]['train_loss'], '-', label=cond, color=color_bar[i])\n",
        "    plt.plot(range(len(results[cond]['valid_loss'])),results[cond]['valid_loss'], '--', label=cond, color=color_bar[i])\n",
        "plt.title(\"Loss\")\n",
        "plt.legend()\n",
        "plt.show()\n",
        "\n",
        "plt.figure(figsize=(8,6))\n",
        "for i, cond in enumerate(results.keys()):\n",
        "    plt.plot(range(len(results[cond]['train_acc'])),results[cond]['train_acc'], '-', label=cond, color=color_bar[i])\n",
        "    plt.plot(range(len(results[cond]['valid_acc'])),results[cond]['valid_acc'], '--', label=cond, color=color_bar[i])\n",
        "plt.title(\"Accuracy\")\n",
        "plt.legend()\n",
        "plt.show()"
      ],
      "execution_count": 26,
      "outputs": [
        {
          "output_type": "display_data",
          "data": {
            "image/png": "[encoded data removed]",
            "text/plain": [
              "<Figure size 576x432 with 1 Axes>"
            ]
          },
          "metadata": {
            "tags": []
          }
        },
        {
          "output_type": "display_data",
          "data": {
            "image/png": "[encoded data removed]",
            "text/plain": [
              "<Figure size 576x432 with 1 Axes>"
            ]
          },
          "metadata": {
            "tags": []
          }
        }
      ]
    },
    {
      "cell_type": "code",
      "metadata": {
        "id": "FTx7xaZBQoTE",
        "colab_type": "code",
        "colab": {}
      },
      "source": [
        ""
      ],
      "execution_count": 0,
      "outputs": []
    },
    {
      "cell_type": "code",
      "metadata": {
        "scrolled": true,
        "id": "Lg2la8BPK8v6",
        "colab_type": "code",
        "colab": {
          "base_uri": "https://localhost:8080/",
          "height": 1000
        },
        "outputId": "4c831600-5624-4142-e1b4-51c99cfa7273"
      },
      "source": [
        "\n",
        "keras.backend.clear_session() # 把舊的 Graph 清掉\n",
        "print(\"Experiment with LR = %.6f\" % (1e-5))\n",
        "model = build_mlp(input_shape=x_train.shape[1:])\n",
        "model.summary()\n",
        "optimizer = keras.optimizers.RMSprop(lr=1e-5)  #, nesterov=True, momentum=MOMENTUM\n",
        "model.compile(loss=\"categorical_crossentropy\", metrics=[\"accuracy\"], optimizer=optimizer)\n",
        "\n",
        "model.fit(x_train, y_train, \n",
        "          epochs=EPOCHS, \n",
        "          batch_size=BATCH_SIZE, \n",
        "          validation_data=(x_test, y_test), \n",
        "          shuffle=True)\n",
        "\n",
        "# Collect results\n",
        "train_loss = model.history.history[\"loss\"]\n",
        "valid_loss = model.history.history[\"val_loss\"]\n",
        "train_acc = model.history.history[\"acc\"]\n",
        "valid_acc = model.history.history[\"val_acc\"]\n",
        "    \n",
        "exp_name_tag = \"exp-lr-%s\" % str(1e-5)\n",
        "results[exp_name_tag] = {'train_loss': train_loss,\n",
        "                         'valid_loss': valid_loss,\n",
        "                         'train_acc': train_acc,\n",
        "                         'valid_acc': valid_acc }\n",
        "\n",
        "\n",
        "\n",
        "import matplotlib.pyplot as plt\n",
        "%matplotlib inline\n",
        "color_bar = [\"r\", \"g\", \"b\", \"y\", \"m\", \"k\"]\n",
        "\n",
        "plt.figure(figsize=(8,6))\n",
        "for i, cond in enumerate(results.keys()):\n",
        "    plt.plot(range(len(results[cond]['train_loss'])),results[cond]['train_loss'], '-', label=cond, color=color_bar[i])\n",
        "    plt.plot(range(len(results[cond]['valid_loss'])),results[cond]['valid_loss'], '--', label=cond, color=color_bar[i])\n",
        "plt.title(\"Loss\")\n",
        "plt.legend()\n",
        "plt.show()\n",
        "\n",
        "plt.figure(figsize=(8,6))\n",
        "for i, cond in enumerate(results.keys()):\n",
        "    plt.plot(range(len(results[cond]['train_acc'])),results[cond]['train_acc'], '-', label=cond, color=color_bar[i])\n",
        "    plt.plot(range(len(results[cond]['valid_acc'])),results[cond]['valid_acc'], '--', label=cond, color=color_bar[i])\n",
        "plt.title(\"Accuracy\")\n",
        "plt.legend()\n",
        "plt.show()"
      ],
      "execution_count": 29,
      "outputs": [
        {
          "output_type": "stream",
          "text": [
            "Experiment with LR = 0.000010\n",
            "_________________________________________________________________\n",
            "Layer (type)                 Output Shape              Param #   \n",
            "=================================================================\n",
            "input_1 (InputLayer)         (None, 3072)              0         \n",
            "_________________________________________________________________\n",
            "hidden_layer1 (Dense)        (None, 512)               1573376   \n",
            "_________________________________________________________________\n",
            "hidden_layer2 (Dense)        (None, 256)               131328    \n",
            "_________________________________________________________________\n",
            "hidden_layer3 (Dense)        (None, 128)               32896     \n",
            "_________________________________________________________________\n",
            "output (Dense)               (None, 10)                1290      \n",
            "=================================================================\n",
            "Total params: 1,738,890\n",
            "Trainable params: 1,738,890\n",
            "Non-trainable params: 0\n",
            "_________________________________________________________________\n",
            "Train on 50000 samples, validate on 10000 samples\n",
            "Epoch 1/50\n",
            "50000/50000 [==============================] - 2s 43us/step - loss: 2.1063 - acc: 0.2646 - val_loss: 1.9905 - val_acc: 0.3204\n",
            "Epoch 2/50\n",
            "50000/50000 [==============================] - 2s 39us/step - loss: 1.9355 - acc: 0.3318 - val_loss: 1.8948 - val_acc: 0.3423\n",
            "Epoch 3/50\n",
            "50000/50000 [==============================] - 2s 39us/step - loss: 1.8608 - acc: 0.3540 - val_loss: 1.8345 - val_acc: 0.3628\n",
            "Epoch 4/50\n",
            "50000/50000 [==============================] - 2s 39us/step - loss: 1.8170 - acc: 0.3692 - val_loss: 1.8072 - val_acc: 0.3713\n",
            "Epoch 5/50\n",
            "50000/50000 [==============================] - 2s 39us/step - loss: 1.7855 - acc: 0.3795 - val_loss: 1.7774 - val_acc: 0.3836\n",
            "Epoch 6/50\n",
            "50000/50000 [==============================] - 2s 39us/step - loss: 1.7594 - acc: 0.3893 - val_loss: 1.7613 - val_acc: 0.3815\n",
            "Epoch 7/50\n",
            "50000/50000 [==============================] - 2s 39us/step - loss: 1.7373 - acc: 0.3979 - val_loss: 1.7320 - val_acc: 0.3973\n",
            "Epoch 8/50\n",
            "50000/50000 [==============================] - 2s 39us/step - loss: 1.7176 - acc: 0.4043 - val_loss: 1.7256 - val_acc: 0.3973\n",
            "Epoch 9/50\n",
            "50000/50000 [==============================] - 2s 39us/step - loss: 1.6990 - acc: 0.4138 - val_loss: 1.6969 - val_acc: 0.4077\n",
            "Epoch 10/50\n",
            "50000/50000 [==============================] - 2s 39us/step - loss: 1.6833 - acc: 0.4176 - val_loss: 1.6856 - val_acc: 0.4167\n",
            "Epoch 11/50\n",
            "50000/50000 [==============================] - 2s 39us/step - loss: 1.6686 - acc: 0.4207 - val_loss: 1.6776 - val_acc: 0.4102\n",
            "Epoch 12/50\n",
            "50000/50000 [==============================] - 2s 39us/step - loss: 1.6551 - acc: 0.4267 - val_loss: 1.6617 - val_acc: 0.4188\n",
            "Epoch 13/50\n",
            "50000/50000 [==============================] - 2s 40us/step - loss: 1.6419 - acc: 0.4313 - val_loss: 1.6513 - val_acc: 0.4195\n",
            "Epoch 14/50\n",
            "50000/50000 [==============================] - 2s 41us/step - loss: 1.6297 - acc: 0.4347 - val_loss: 1.6526 - val_acc: 0.4228\n",
            "Epoch 15/50\n",
            "50000/50000 [==============================] - 2s 42us/step - loss: 1.6179 - acc: 0.4383 - val_loss: 1.6320 - val_acc: 0.4292\n",
            "Epoch 16/50\n",
            "50000/50000 [==============================] - 2s 41us/step - loss: 1.6073 - acc: 0.4436 - val_loss: 1.6282 - val_acc: 0.4248\n",
            "Epoch 17/50\n",
            "50000/50000 [==============================] - 2s 41us/step - loss: 1.5968 - acc: 0.4466 - val_loss: 1.6153 - val_acc: 0.4325\n",
            "Epoch 18/50\n",
            "50000/50000 [==============================] - 2s 42us/step - loss: 1.5868 - acc: 0.4497 - val_loss: 1.6239 - val_acc: 0.4268\n",
            "Epoch 19/50\n",
            "50000/50000 [==============================] - 2s 40us/step - loss: 1.5779 - acc: 0.4539 - val_loss: 1.5930 - val_acc: 0.4444\n",
            "Epoch 20/50\n",
            "50000/50000 [==============================] - 2s 39us/step - loss: 1.5687 - acc: 0.4560 - val_loss: 1.5862 - val_acc: 0.4452\n",
            "Epoch 21/50\n",
            "50000/50000 [==============================] - 2s 39us/step - loss: 1.5597 - acc: 0.4603 - val_loss: 1.5813 - val_acc: 0.4478\n",
            "Epoch 22/50\n",
            "50000/50000 [==============================] - 2s 38us/step - loss: 1.5516 - acc: 0.4617 - val_loss: 1.5724 - val_acc: 0.4502\n",
            "Epoch 23/50\n",
            "50000/50000 [==============================] - 2s 39us/step - loss: 1.5434 - acc: 0.4641 - val_loss: 1.5663 - val_acc: 0.4536\n",
            "Epoch 24/50\n",
            "50000/50000 [==============================] - 2s 39us/step - loss: 1.5354 - acc: 0.4665 - val_loss: 1.5639 - val_acc: 0.4508\n",
            "Epoch 25/50\n",
            "50000/50000 [==============================] - 2s 39us/step - loss: 1.5281 - acc: 0.4686 - val_loss: 1.5576 - val_acc: 0.4520\n",
            "Epoch 26/50\n",
            "50000/50000 [==============================] - 2s 39us/step - loss: 1.5209 - acc: 0.4709 - val_loss: 1.5542 - val_acc: 0.4577\n",
            "Epoch 27/50\n",
            "50000/50000 [==============================] - 2s 39us/step - loss: 1.5138 - acc: 0.4730 - val_loss: 1.5503 - val_acc: 0.4553\n",
            "Epoch 28/50\n",
            "50000/50000 [==============================] - 2s 40us/step - loss: 1.5075 - acc: 0.4784 - val_loss: 1.5561 - val_acc: 0.4488\n",
            "Epoch 29/50\n",
            "50000/50000 [==============================] - 2s 40us/step - loss: 1.5007 - acc: 0.4790 - val_loss: 1.5517 - val_acc: 0.4535\n",
            "Epoch 30/50\n",
            "50000/50000 [==============================] - 2s 39us/step - loss: 1.4950 - acc: 0.4807 - val_loss: 1.5292 - val_acc: 0.4656\n",
            "Epoch 31/50\n",
            "50000/50000 [==============================] - 2s 39us/step - loss: 1.4883 - acc: 0.4825 - val_loss: 1.5307 - val_acc: 0.4604\n",
            "Epoch 32/50\n",
            "50000/50000 [==============================] - 2s 38us/step - loss: 1.4826 - acc: 0.4862 - val_loss: 1.5247 - val_acc: 0.4646\n",
            "Epoch 33/50\n",
            "50000/50000 [==============================] - 2s 39us/step - loss: 1.4765 - acc: 0.4872 - val_loss: 1.5148 - val_acc: 0.4672\n",
            "Epoch 34/50\n",
            "50000/50000 [==============================] - 2s 39us/step - loss: 1.4712 - acc: 0.4900 - val_loss: 1.5155 - val_acc: 0.4668\n",
            "Epoch 35/50\n",
            "50000/50000 [==============================] - 2s 39us/step - loss: 1.4654 - acc: 0.4914 - val_loss: 1.5099 - val_acc: 0.4653\n",
            "Epoch 36/50\n",
            "50000/50000 [==============================] - 2s 38us/step - loss: 1.4595 - acc: 0.4932 - val_loss: 1.5076 - val_acc: 0.4717\n",
            "Epoch 37/50\n",
            "50000/50000 [==============================] - 2s 38us/step - loss: 1.4541 - acc: 0.4951 - val_loss: 1.4999 - val_acc: 0.4715\n",
            "Epoch 38/50\n",
            "50000/50000 [==============================] - 2s 38us/step - loss: 1.4493 - acc: 0.4980 - val_loss: 1.5009 - val_acc: 0.4719\n",
            "Epoch 39/50\n",
            "50000/50000 [==============================] - 2s 38us/step - loss: 1.4442 - acc: 0.4997 - val_loss: 1.4955 - val_acc: 0.4714\n",
            "Epoch 40/50\n",
            "50000/50000 [==============================] - 2s 39us/step - loss: 1.4384 - acc: 0.5012 - val_loss: 1.4925 - val_acc: 0.4748\n",
            "Epoch 41/50\n",
            "50000/50000 [==============================] - 2s 38us/step - loss: 1.4337 - acc: 0.5029 - val_loss: 1.4996 - val_acc: 0.4710\n",
            "Epoch 42/50\n",
            "50000/50000 [==============================] - 2s 38us/step - loss: 1.4294 - acc: 0.5053 - val_loss: 1.4785 - val_acc: 0.4815\n",
            "Epoch 43/50\n",
            "50000/50000 [==============================] - 2s 38us/step - loss: 1.4240 - acc: 0.5053 - val_loss: 1.4870 - val_acc: 0.4774\n",
            "Epoch 44/50\n",
            "50000/50000 [==============================] - 2s 38us/step - loss: 1.4197 - acc: 0.5083 - val_loss: 1.4735 - val_acc: 0.4819\n",
            "Epoch 45/50\n",
            "50000/50000 [==============================] - 2s 38us/step - loss: 1.4144 - acc: 0.5090 - val_loss: 1.4744 - val_acc: 0.4818\n",
            "Epoch 46/50\n",
            "50000/50000 [==============================] - 2s 39us/step - loss: 1.4102 - acc: 0.5112 - val_loss: 1.4663 - val_acc: 0.4849\n",
            "Epoch 47/50\n",
            "50000/50000 [==============================] - 2s 38us/step - loss: 1.4056 - acc: 0.5133 - val_loss: 1.4657 - val_acc: 0.4867\n",
            "Epoch 48/50\n",
            "50000/50000 [==============================] - 2s 38us/step - loss: 1.4012 - acc: 0.5152 - val_loss: 1.4635 - val_acc: 0.4849\n",
            "Epoch 49/50\n",
            "50000/50000 [==============================] - 2s 39us/step - loss: 1.3970 - acc: 0.5150 - val_loss: 1.4566 - val_acc: 0.4876\n",
            "Epoch 50/50\n",
            "50000/50000 [==============================] - 2s 38us/step - loss: 1.3918 - acc: 0.5178 - val_loss: 1.4631 - val_acc: 0.4847\n"
          ],
          "name": "stdout"
        },
        {
          "output_type": "display_data",
          "data": {
            "image/png": "[encoded data removed]",
            "text/plain": [
              "<Figure size 576x432 with 1 Axes>"
            ]
          },
          "metadata": {
            "tags": []
          }
        },
        {
          "output_type": "display_data",
          "data": {
            "image/png": "[encoded data removed]",
            "text/plain": [
              "<Figure size 576x432 with 1 Axes>"
            ]
          },
          "metadata": {
            "tags": []
          }
        }
      ]
    },
    {
      "cell_type": "code",
      "metadata": {
        "id": "8vW5E7vkTMJD",
        "colab_type": "code",
        "colab": {
          "base_uri": "https://localhost:8080/",
          "height": 1000
        },
        "outputId": "564a927b-532d-4555-cf18-c47334ba8c7c"
      },
      "source": [
        "\n",
        "keras.backend.clear_session() # 把舊的 Graph 清掉\n",
        "print(\"Experiment with LR = %.6f\" % (1e-5))\n",
        "model = build_mlp(input_shape=x_train.shape[1:])\n",
        "model.summary()\n",
        "optimizer = keras.optimizers.Adam(lr=1e-5)  #, nesterov=True, momentum=MOMENTUM\n",
        "model.compile(loss=\"categorical_crossentropy\", metrics=[\"accuracy\"], optimizer=optimizer)\n",
        "\n",
        "model.fit(x_train, y_train, \n",
        "          epochs=EPOCHS, \n",
        "          batch_size=BATCH_SIZE, \n",
        "          validation_data=(x_test, y_test), \n",
        "          shuffle=True)\n",
        "\n",
        "# Collect results\n",
        "train_loss = model.history.history[\"loss\"]\n",
        "valid_loss = model.history.history[\"val_loss\"]\n",
        "train_acc = model.history.history[\"acc\"]\n",
        "valid_acc = model.history.history[\"val_acc\"]\n",
        "    \n",
        "exp_name_tag = \"exp-lr-%s\" % str(1e-5)\n",
        "results[exp_name_tag] = {'train_loss': train_loss,\n",
        "                         'valid_loss': valid_loss,\n",
        "                         'train_acc': train_acc,\n",
        "                         'valid_acc': valid_acc }\n",
        "\n",
        "\n",
        "\n",
        "import matplotlib.pyplot as plt\n",
        "%matplotlib inline\n",
        "color_bar = [\"r\", \"g\", \"b\", \"y\", \"m\", \"k\"]\n",
        "\n",
        "plt.figure(figsize=(8,6))\n",
        "for i, cond in enumerate(results.keys()):\n",
        "    plt.plot(range(len(results[cond]['train_loss'])),results[cond]['train_loss'], '-', label=cond, color=color_bar[i])\n",
        "    plt.plot(range(len(results[cond]['valid_loss'])),results[cond]['valid_loss'], '--', label=cond, color=color_bar[i])\n",
        "plt.title(\"Loss\")\n",
        "plt.legend()\n",
        "plt.show()\n",
        "\n",
        "plt.figure(figsize=(8,6))\n",
        "for i, cond in enumerate(results.keys()):\n",
        "    plt.plot(range(len(results[cond]['train_acc'])),results[cond]['train_acc'], '-', label=cond, color=color_bar[i])\n",
        "    plt.plot(range(len(results[cond]['valid_acc'])),results[cond]['valid_acc'], '--', label=cond, color=color_bar[i])\n",
        "plt.title(\"Accuracy\")\n",
        "plt.legend()\n",
        "plt.show()"
      ],
      "execution_count": 33,
      "outputs": [
        {
          "output_type": "stream",
          "text": [
            "Experiment with LR = 0.000010\n",
            "_________________________________________________________________\n",
            "Layer (type)                 Output Shape              Param #   \n",
            "=================================================================\n",
            "input_1 (InputLayer)         (None, 3072)              0         \n",
            "_________________________________________________________________\n",
            "hidden_layer1 (Dense)        (None, 512)               1573376   \n",
            "_________________________________________________________________\n",
            "hidden_layer2 (Dense)        (None, 256)               131328    \n",
            "_________________________________________________________________\n",
            "hidden_layer3 (Dense)        (None, 128)               32896     \n",
            "_________________________________________________________________\n",
            "output (Dense)               (None, 10)                1290      \n",
            "=================================================================\n",
            "Total params: 1,738,890\n",
            "Trainable params: 1,738,890\n",
            "Non-trainable params: 0\n",
            "_________________________________________________________________\n",
            "Train on 50000 samples, validate on 10000 samples\n",
            "Epoch 1/50\n",
            "50000/50000 [==============================] - 2s 47us/step - loss: 2.1308 - acc: 0.2502 - val_loss: 2.0048 - val_acc: 0.3098\n",
            "Epoch 2/50\n",
            "50000/50000 [==============================] - 2s 41us/step - loss: 1.9347 - acc: 0.3324 - val_loss: 1.8815 - val_acc: 0.3497\n",
            "Epoch 3/50\n",
            "50000/50000 [==============================] - 2s 41us/step - loss: 1.8485 - acc: 0.3608 - val_loss: 1.8212 - val_acc: 0.3728\n",
            "Epoch 4/50\n",
            "50000/50000 [==============================] - 2s 41us/step - loss: 1.7999 - acc: 0.3769 - val_loss: 1.7820 - val_acc: 0.3828\n",
            "Epoch 5/50\n",
            "50000/50000 [==============================] - 2s 41us/step - loss: 1.7639 - acc: 0.3908 - val_loss: 1.7525 - val_acc: 0.3972\n",
            "Epoch 6/50\n",
            "50000/50000 [==============================] - 2s 41us/step - loss: 1.7342 - acc: 0.3989 - val_loss: 1.7250 - val_acc: 0.4047\n",
            "Epoch 7/50\n",
            "50000/50000 [==============================] - 2s 41us/step - loss: 1.7087 - acc: 0.4082 - val_loss: 1.7008 - val_acc: 0.4096\n",
            "Epoch 8/50\n",
            "50000/50000 [==============================] - 2s 40us/step - loss: 1.6878 - acc: 0.4152 - val_loss: 1.6830 - val_acc: 0.4157\n",
            "Epoch 9/50\n",
            "50000/50000 [==============================] - 2s 41us/step - loss: 1.6669 - acc: 0.4227 - val_loss: 1.6672 - val_acc: 0.4226\n",
            "Epoch 10/50\n",
            "50000/50000 [==============================] - 2s 40us/step - loss: 1.6507 - acc: 0.4286 - val_loss: 1.6525 - val_acc: 0.4258\n",
            "Epoch 11/50\n",
            "50000/50000 [==============================] - 2s 41us/step - loss: 1.6343 - acc: 0.4349 - val_loss: 1.6366 - val_acc: 0.4282\n",
            "Epoch 12/50\n",
            "50000/50000 [==============================] - 2s 41us/step - loss: 1.6203 - acc: 0.4389 - val_loss: 1.6233 - val_acc: 0.4379\n",
            "Epoch 13/50\n",
            "50000/50000 [==============================] - 2s 40us/step - loss: 1.6077 - acc: 0.4437 - val_loss: 1.6119 - val_acc: 0.4389\n",
            "Epoch 14/50\n",
            "50000/50000 [==============================] - 2s 40us/step - loss: 1.5954 - acc: 0.4478 - val_loss: 1.6031 - val_acc: 0.4406\n",
            "Epoch 15/50\n",
            "50000/50000 [==============================] - 2s 41us/step - loss: 1.5833 - acc: 0.4501 - val_loss: 1.5912 - val_acc: 0.4464\n",
            "Epoch 16/50\n",
            "50000/50000 [==============================] - 2s 41us/step - loss: 1.5741 - acc: 0.4533 - val_loss: 1.5842 - val_acc: 0.4488\n",
            "Epoch 17/50\n",
            "50000/50000 [==============================] - 2s 41us/step - loss: 1.5629 - acc: 0.4578 - val_loss: 1.5788 - val_acc: 0.4506\n",
            "Epoch 18/50\n",
            "50000/50000 [==============================] - 2s 41us/step - loss: 1.5540 - acc: 0.4604 - val_loss: 1.5737 - val_acc: 0.4546\n",
            "Epoch 19/50\n",
            "50000/50000 [==============================] - 2s 40us/step - loss: 1.5443 - acc: 0.4639 - val_loss: 1.5651 - val_acc: 0.4509\n",
            "Epoch 20/50\n",
            "50000/50000 [==============================] - 2s 41us/step - loss: 1.5371 - acc: 0.4667 - val_loss: 1.5564 - val_acc: 0.4553\n",
            "Epoch 21/50\n",
            "50000/50000 [==============================] - 2s 41us/step - loss: 1.5285 - acc: 0.4700 - val_loss: 1.5451 - val_acc: 0.4598\n",
            "Epoch 22/50\n",
            "50000/50000 [==============================] - 2s 40us/step - loss: 1.5197 - acc: 0.4721 - val_loss: 1.5402 - val_acc: 0.4638\n",
            "Epoch 23/50\n",
            "50000/50000 [==============================] - 2s 40us/step - loss: 1.5128 - acc: 0.4733 - val_loss: 1.5364 - val_acc: 0.4597\n",
            "Epoch 24/50\n",
            "50000/50000 [==============================] - 2s 40us/step - loss: 1.5053 - acc: 0.4770 - val_loss: 1.5286 - val_acc: 0.4676\n",
            "Epoch 25/50\n",
            "50000/50000 [==============================] - 2s 41us/step - loss: 1.4990 - acc: 0.4794 - val_loss: 1.5266 - val_acc: 0.4628\n",
            "Epoch 26/50\n",
            "50000/50000 [==============================] - 2s 40us/step - loss: 1.4914 - acc: 0.4819 - val_loss: 1.5174 - val_acc: 0.4651\n",
            "Epoch 27/50\n",
            "50000/50000 [==============================] - 2s 41us/step - loss: 1.4843 - acc: 0.4851 - val_loss: 1.5103 - val_acc: 0.4696\n",
            "Epoch 28/50\n",
            "50000/50000 [==============================] - 2s 40us/step - loss: 1.4782 - acc: 0.4866 - val_loss: 1.5111 - val_acc: 0.4709\n",
            "Epoch 29/50\n",
            "50000/50000 [==============================] - 2s 40us/step - loss: 1.4726 - acc: 0.4887 - val_loss: 1.5064 - val_acc: 0.4713\n",
            "Epoch 30/50\n",
            "50000/50000 [==============================] - 2s 41us/step - loss: 1.4669 - acc: 0.4901 - val_loss: 1.5016 - val_acc: 0.4726\n",
            "Epoch 31/50\n",
            "50000/50000 [==============================] - 2s 40us/step - loss: 1.4589 - acc: 0.4932 - val_loss: 1.4940 - val_acc: 0.4766\n",
            "Epoch 32/50\n",
            "50000/50000 [==============================] - 2s 40us/step - loss: 1.4534 - acc: 0.4962 - val_loss: 1.4983 - val_acc: 0.4762\n",
            "Epoch 33/50\n",
            "50000/50000 [==============================] - 2s 40us/step - loss: 1.4488 - acc: 0.4969 - val_loss: 1.4879 - val_acc: 0.4789\n",
            "Epoch 34/50\n",
            "50000/50000 [==============================] - 2s 41us/step - loss: 1.4430 - acc: 0.5001 - val_loss: 1.4865 - val_acc: 0.4760\n",
            "Epoch 35/50\n",
            "50000/50000 [==============================] - 2s 40us/step - loss: 1.4373 - acc: 0.5000 - val_loss: 1.4792 - val_acc: 0.4782\n",
            "Epoch 36/50\n",
            "50000/50000 [==============================] - 2s 40us/step - loss: 1.4303 - acc: 0.5049 - val_loss: 1.4769 - val_acc: 0.4809\n",
            "Epoch 37/50\n",
            "50000/50000 [==============================] - 2s 41us/step - loss: 1.4253 - acc: 0.5058 - val_loss: 1.4763 - val_acc: 0.4751\n",
            "Epoch 38/50\n",
            "50000/50000 [==============================] - 2s 41us/step - loss: 1.4212 - acc: 0.5064 - val_loss: 1.4729 - val_acc: 0.4781\n",
            "Epoch 39/50\n",
            "50000/50000 [==============================] - 2s 42us/step - loss: 1.4155 - acc: 0.5082 - val_loss: 1.4677 - val_acc: 0.4789\n",
            "Epoch 40/50\n",
            "50000/50000 [==============================] - 2s 42us/step - loss: 1.4110 - acc: 0.5097 - val_loss: 1.4611 - val_acc: 0.4826\n",
            "Epoch 41/50\n",
            "50000/50000 [==============================] - 2s 42us/step - loss: 1.4057 - acc: 0.5132 - val_loss: 1.4589 - val_acc: 0.4868\n",
            "Epoch 42/50\n",
            "50000/50000 [==============================] - 2s 42us/step - loss: 1.4016 - acc: 0.5132 - val_loss: 1.4576 - val_acc: 0.4821\n",
            "Epoch 43/50\n",
            "50000/50000 [==============================] - 2s 43us/step - loss: 1.3964 - acc: 0.5145 - val_loss: 1.4506 - val_acc: 0.4841\n",
            "Epoch 44/50\n",
            "50000/50000 [==============================] - 2s 41us/step - loss: 1.3912 - acc: 0.5158 - val_loss: 1.4478 - val_acc: 0.4932\n",
            "Epoch 45/50\n",
            "50000/50000 [==============================] - 2s 41us/step - loss: 1.3859 - acc: 0.5199 - val_loss: 1.4443 - val_acc: 0.4907\n",
            "Epoch 46/50\n",
            "50000/50000 [==============================] - 2s 40us/step - loss: 1.3821 - acc: 0.5198 - val_loss: 1.4443 - val_acc: 0.4866\n",
            "Epoch 47/50\n",
            "50000/50000 [==============================] - 2s 40us/step - loss: 1.3776 - acc: 0.5223 - val_loss: 1.4380 - val_acc: 0.4931\n",
            "Epoch 48/50\n",
            "50000/50000 [==============================] - 2s 41us/step - loss: 1.3728 - acc: 0.5245 - val_loss: 1.4428 - val_acc: 0.4885\n",
            "Epoch 49/50\n",
            "50000/50000 [==============================] - 2s 41us/step - loss: 1.3681 - acc: 0.5249 - val_loss: 1.4373 - val_acc: 0.4876\n",
            "Epoch 50/50\n",
            "50000/50000 [==============================] - 2s 41us/step - loss: 1.3659 - acc: 0.5261 - val_loss: 1.4306 - val_acc: 0.4964\n"
          ],
          "name": "stdout"
        },
        {
          "output_type": "display_data",
          "data": {
            "image/png": "[encoded data removed]",
            "text/plain": [
              "<Figure size 576x432 with 1 Axes>"
            ]
          },
          "metadata": {
            "tags": []
          }
        },
        {
          "output_type": "display_data",
          "data": {
            "image/png": "[encoded data removed]",
            "text/plain": [
              "<Figure size 576x432 with 1 Axes>"
            ]
          },
          "metadata": {
            "tags": []
          }
        }
      ]
    },
    {
      "cell_type": "code",
      "metadata": {
        "id": "b-AzCfO9TeJj",
        "colab_type": "code",
        "colab": {}
      },
      "source": [
        ""
      ],
      "execution_count": 0,
      "outputs": []
    }
  ]
}