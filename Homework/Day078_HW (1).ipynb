{
  "nbformat": 4,
  "nbformat_minor": 0,
  "metadata": {
    "kernelspec": {
      "name": "python3",
      "display_name": "Python 3"
    },
    "language_info": {
      "codemirror_mode": {
        "name": "ipython",
        "version": 3
      },
      "file_extension": ".py",
      "mimetype": "text/x-python",
      "name": "python",
      "nbconvert_exporter": "python",
      "pygments_lexer": "ipython3",
      "version": "3.6.5"
    },
    "colab": {
      "name": "Day078_HW.ipynb",
      "version": "0.3.2",
      "provenance": [],
      "collapsed_sections": []
    },
    "accelerator": "GPU"
  },
  "cells": [
    {
      "cell_type": "markdown",
      "metadata": {
        "id": "UblfbcKb6QaT",
        "colab_type": "text"
      },
      "source": [
        "## Work\n",
        "1. 請嘗試將 preproc_x 替換成以每筆資料的 min/max 進行標準化至 -1 ~ 1 間，再進行訓練\n",
        "2. 請嘗試將 mlp 疊更深 (e.g 5~10 層)，進行訓練後觀察 learning curve 的走勢\n",
        "3. (optional) 請改用 GPU 進行訓練 (如果你有 GPU 的話)，比較使用 CPU 與 GPU 的訓練速度"
      ]
    },
    {
      "cell_type": "code",
      "metadata": {
        "id": "vKULGjF06QaU",
        "colab_type": "code",
        "colab": {}
      },
      "source": [
        "## \n",
        "\"\"\"\n",
        "Your code here (optional)\n",
        "確認硬體資源\n",
        "\"\"\"\n"
      ],
      "execution_count": 0,
      "outputs": []
    },
    {
      "cell_type": "code",
      "metadata": {
        "id": "FUp5MBIh6QaX",
        "colab_type": "code",
        "colab": {}
      },
      "source": [
        "import os\n",
        "import keras\n",
        "\n",
        "# 請嘗試設定 GPU：os.environ\n",
        "os.environ[\"CUDA_VISIBLE_DEVICES\"] = \"0\""
      ],
      "execution_count": 0,
      "outputs": []
    },
    {
      "cell_type": "code",
      "metadata": {
        "id": "hC82klcW6Qab",
        "colab_type": "code",
        "colab": {}
      },
      "source": [
        "train, test = keras.datasets.cifar10.load_data()"
      ],
      "execution_count": 0,
      "outputs": []
    },
    {
      "cell_type": "code",
      "metadata": {
        "id": "CFgAXPox6Qad",
        "colab_type": "code",
        "colab": {}
      },
      "source": [
        "## 資料前處理\n",
        "\"\"\"\n",
        "Your code here\n",
        "\"\"\"\n",
        "def preproc_x(x, flatten=True):\n",
        "    x = x / 255.\n",
        "    if flatten:\n",
        "        x = x.reshape((len(x), -1))\n",
        "    return x\n",
        "\n",
        "def preproc_y(y, num_classes=10):\n",
        "    if y.shape[-1] == 1:\n",
        "        y = keras.utils.to_categorical(y, num_classes)\n",
        "    return y "
      ],
      "execution_count": 0,
      "outputs": []
    },
    {
      "cell_type": "code",
      "metadata": {
        "id": "7KI3YBjP6Qag",
        "colab_type": "code",
        "colab": {}
      },
      "source": [
        "x_train, y_train = train\n",
        "x_test, y_test = test\n",
        "\n",
        "# Preproc the inputs\n",
        "x_train = preproc_x(x_train)\n",
        "x_test = preproc_x(x_test)\n",
        "\n",
        "# Preprc the outputs\n",
        "y_train = preproc_y(y_train)\n",
        "y_test = preproc_y(y_test)"
      ],
      "execution_count": 0,
      "outputs": []
    },
    {
      "cell_type": "code",
      "metadata": {
        "id": "DhJ8EOr26Qak",
        "colab_type": "code",
        "colab": {
          "base_uri": "https://localhost:8080/",
          "height": 456
        },
        "outputId": "e900189a-c98a-4848-a815-1e9e773d6d79"
      },
      "source": [
        "\"\"\"Code Here\n",
        "建立你的神經網路\n",
        "\"\"\"\n",
        "def build_mlp(input_shape, output_units=10, num_neurons=[512, 256, 128]):\n",
        "    input_layer = keras.layers.Input(input_shape)\n",
        "    \n",
        "    for i, n_units in enumerate(num_neurons):\n",
        "        if i == 0:\n",
        "            x = keras.layers.Dense(units=n_units, activation=\"relu\", name=\"hidden_layer\"+str(i+1))(input_layer)\n",
        "                \n",
        "            x = keras.layers.Dense(units=512, activation=\"relu\")(input_layer)\n",
        "            x = keras.layers.Dense(units=256, activation=\"relu\")(x)\n",
        "            x = keras.layers.Dense(units=128, activation=\"relu\")(x)\n",
        "            input_layer = keras.layers.Input([x_train.shape[-1]])\n",
        "            \n",
        "            \n",
        "        else:\n",
        "            x = keras.layers.Dense(units=n_units, activation=\"relu\", name=\"hidden_layer\"+str(i+1))(x)\n",
        "            x = keras.layers.Dense(units=512, activation=\"relu\")(input_layer)\n",
        "            x = keras.layers.Dense(units=256, activation=\"relu\")(x)\n",
        "            x = keras.layers.Dense(units=128, activation=\"relu\")(x)\n",
        "    \n",
        "    out = keras.layers.Dense(units=output_units, activation=\"softmax\", name=\"output\")(x)\n",
        "    \n",
        "    model = keras.models.Model(inputs=[input_layer], outputs=[out])\n",
        "    return model\n",
        "  \n",
        "model = build_mlp(input_shape=x_train.shape[1:])  \n",
        "model.summary()"
      ],
      "execution_count": 8,
      "outputs": [
        {
          "output_type": "stream",
          "text": [
            "WARNING: Logging before flag parsing goes to stderr.\n",
            "W0731 07:29:04.518373 140610026604416 deprecation_wrapper.py:119] From /usr/local/lib/python3.6/dist-packages/keras/backend/tensorflow_backend.py:74: The name tf.get_default_graph is deprecated. Please use tf.compat.v1.get_default_graph instead.\n",
            "\n",
            "W0731 07:29:04.538514 140610026604416 deprecation_wrapper.py:119] From /usr/local/lib/python3.6/dist-packages/keras/backend/tensorflow_backend.py:517: The name tf.placeholder is deprecated. Please use tf.compat.v1.placeholder instead.\n",
            "\n",
            "W0731 07:29:04.541282 140610026604416 deprecation_wrapper.py:119] From /usr/local/lib/python3.6/dist-packages/keras/backend/tensorflow_backend.py:4138: The name tf.random_uniform is deprecated. Please use tf.random.uniform instead.\n",
            "\n"
          ],
          "name": "stderr"
        },
        {
          "output_type": "stream",
          "text": [
            "_________________________________________________________________\n",
            "Layer (type)                 Output Shape              Param #   \n",
            "=================================================================\n",
            "input_2 (InputLayer)         (None, 3072)              0         \n",
            "_________________________________________________________________\n",
            "dense_7 (Dense)              (None, 512)               1573376   \n",
            "_________________________________________________________________\n",
            "dense_8 (Dense)              (None, 256)               131328    \n",
            "_________________________________________________________________\n",
            "dense_9 (Dense)              (None, 128)               32896     \n",
            "_________________________________________________________________\n",
            "output (Dense)               (None, 10)                1290      \n",
            "=================================================================\n",
            "Total params: 1,738,890\n",
            "Trainable params: 1,738,890\n",
            "Non-trainable params: 0\n",
            "_________________________________________________________________\n"
          ],
          "name": "stdout"
        }
      ]
    },
    {
      "cell_type": "code",
      "metadata": {
        "id": "MWSeoT_D6Qan",
        "colab_type": "code",
        "colab": {}
      },
      "source": [
        "## 超參數設定\n",
        "LEARNING_RATE = 0.001\n",
        "EPOCHS = 100\n",
        "BATCH_SIZE = 256"
      ],
      "execution_count": 0,
      "outputs": []
    },
    {
      "cell_type": "code",
      "metadata": {
        "id": "2FXyH9Sb6Qap",
        "colab_type": "code",
        "colab": {
          "base_uri": "https://localhost:8080/",
          "height": 106
        },
        "outputId": "a731304e-9f9b-4341-e6a7-344184b9fd27"
      },
      "source": [
        "optimizer = keras.optimizers.Adam(lr=LEARNING_RATE)\n",
        "model.compile(loss=\"categorical_crossentropy\", metrics=[\"accuracy\"], optimizer=optimizer)"
      ],
      "execution_count": 10,
      "outputs": [
        {
          "output_type": "stream",
          "text": [
            "W0731 07:29:20.564728 140610026604416 deprecation_wrapper.py:119] From /usr/local/lib/python3.6/dist-packages/keras/optimizers.py:790: The name tf.train.Optimizer is deprecated. Please use tf.compat.v1.train.Optimizer instead.\n",
            "\n",
            "W0731 07:29:20.574977 140610026604416 deprecation_wrapper.py:119] From /usr/local/lib/python3.6/dist-packages/keras/backend/tensorflow_backend.py:3295: The name tf.log is deprecated. Please use tf.math.log instead.\n",
            "\n"
          ],
          "name": "stderr"
        }
      ]
    },
    {
      "cell_type": "code",
      "metadata": {
        "id": "z0Fdluyq6Qar",
        "colab_type": "code",
        "colab": {
          "base_uri": "https://localhost:8080/",
          "height": 1000
        },
        "outputId": "bf395958-4fc7-4572-c361-f690248b7eb9"
      },
      "source": [
        "model.fit(x_train, y_train, \n",
        "          epochs=EPOCHS, \n",
        "          batch_size=BATCH_SIZE, \n",
        "          validation_data=(x_test, y_test), \n",
        "          shuffle=True)"
      ],
      "execution_count": 11,
      "outputs": [
        {
          "output_type": "stream",
          "text": [
            "W0731 07:29:26.309768 140610026604416 deprecation.py:323] From /usr/local/lib/python3.6/dist-packages/tensorflow/python/ops/math_grad.py:1250: add_dispatch_support.<locals>.wrapper (from tensorflow.python.ops.array_ops) is deprecated and will be removed in a future version.\n",
            "Instructions for updating:\n",
            "Use tf.where in 2.0, which has the same broadcast rule as np.where\n",
            "W0731 07:29:26.367506 140610026604416 deprecation_wrapper.py:119] From /usr/local/lib/python3.6/dist-packages/keras/backend/tensorflow_backend.py:986: The name tf.assign_add is deprecated. Please use tf.compat.v1.assign_add instead.\n",
            "\n"
          ],
          "name": "stderr"
        },
        {
          "output_type": "stream",
          "text": [
            "Train on 50000 samples, validate on 10000 samples\n",
            "Epoch 1/100\n",
            "50000/50000 [==============================] - 3s 65us/step - loss: 1.9641 - acc: 0.2955 - val_loss: 1.7765 - val_acc: 0.3643\n",
            "Epoch 2/100\n",
            "50000/50000 [==============================] - 2s 42us/step - loss: 1.7234 - acc: 0.3857 - val_loss: 1.6703 - val_acc: 0.4009\n",
            "Epoch 3/100\n",
            "50000/50000 [==============================] - 2s 40us/step - loss: 1.6329 - acc: 0.4204 - val_loss: 1.6783 - val_acc: 0.4096\n",
            "Epoch 4/100\n",
            "50000/50000 [==============================] - 2s 40us/step - loss: 1.5717 - acc: 0.4403 - val_loss: 1.5456 - val_acc: 0.4503\n",
            "Epoch 5/100\n",
            "50000/50000 [==============================] - 2s 41us/step - loss: 1.5192 - acc: 0.4607 - val_loss: 1.5928 - val_acc: 0.4389\n",
            "Epoch 6/100\n",
            "50000/50000 [==============================] - 2s 40us/step - loss: 1.4837 - acc: 0.4735 - val_loss: 1.5149 - val_acc: 0.4624\n",
            "Epoch 7/100\n",
            "50000/50000 [==============================] - 2s 41us/step - loss: 1.4560 - acc: 0.4820 - val_loss: 1.4744 - val_acc: 0.4717\n",
            "Epoch 8/100\n",
            "50000/50000 [==============================] - 2s 40us/step - loss: 1.4216 - acc: 0.4947 - val_loss: 1.4599 - val_acc: 0.4818\n",
            "Epoch 9/100\n",
            "50000/50000 [==============================] - 2s 41us/step - loss: 1.3990 - acc: 0.5028 - val_loss: 1.4761 - val_acc: 0.4838\n",
            "Epoch 10/100\n",
            "50000/50000 [==============================] - 2s 39us/step - loss: 1.3671 - acc: 0.5133 - val_loss: 1.4225 - val_acc: 0.4971\n",
            "Epoch 11/100\n",
            "50000/50000 [==============================] - 2s 40us/step - loss: 1.3471 - acc: 0.5203 - val_loss: 1.4202 - val_acc: 0.4951\n",
            "Epoch 12/100\n",
            "50000/50000 [==============================] - 2s 39us/step - loss: 1.3182 - acc: 0.5349 - val_loss: 1.4313 - val_acc: 0.4957\n",
            "Epoch 13/100\n",
            "50000/50000 [==============================] - 2s 38us/step - loss: 1.3036 - acc: 0.5360 - val_loss: 1.4209 - val_acc: 0.4988\n",
            "Epoch 14/100\n",
            "50000/50000 [==============================] - 2s 38us/step - loss: 1.2721 - acc: 0.5475 - val_loss: 1.3740 - val_acc: 0.5133\n",
            "Epoch 15/100\n",
            "50000/50000 [==============================] - 2s 39us/step - loss: 1.2532 - acc: 0.5534 - val_loss: 1.4149 - val_acc: 0.4990\n",
            "Epoch 16/100\n",
            "50000/50000 [==============================] - 2s 39us/step - loss: 1.2417 - acc: 0.5580 - val_loss: 1.3847 - val_acc: 0.5159\n",
            "Epoch 17/100\n",
            "50000/50000 [==============================] - 2s 38us/step - loss: 1.2106 - acc: 0.5683 - val_loss: 1.3835 - val_acc: 0.5122\n",
            "Epoch 18/100\n",
            "50000/50000 [==============================] - 2s 38us/step - loss: 1.1873 - acc: 0.5777 - val_loss: 1.3663 - val_acc: 0.5177\n",
            "Epoch 19/100\n",
            "50000/50000 [==============================] - 2s 38us/step - loss: 1.1652 - acc: 0.5847 - val_loss: 1.3917 - val_acc: 0.5094\n",
            "Epoch 20/100\n",
            "50000/50000 [==============================] - 2s 38us/step - loss: 1.1517 - acc: 0.5891 - val_loss: 1.3846 - val_acc: 0.5223\n",
            "Epoch 21/100\n",
            "50000/50000 [==============================] - 2s 38us/step - loss: 1.1302 - acc: 0.5960 - val_loss: 1.3696 - val_acc: 0.5226\n",
            "Epoch 22/100\n",
            "50000/50000 [==============================] - 2s 40us/step - loss: 1.1044 - acc: 0.6041 - val_loss: 1.3972 - val_acc: 0.5192\n",
            "Epoch 23/100\n",
            "50000/50000 [==============================] - 2s 39us/step - loss: 1.0909 - acc: 0.6126 - val_loss: 1.3938 - val_acc: 0.5179\n",
            "Epoch 24/100\n",
            "50000/50000 [==============================] - 2s 39us/step - loss: 1.0696 - acc: 0.6177 - val_loss: 1.3840 - val_acc: 0.5217\n",
            "Epoch 25/100\n",
            "50000/50000 [==============================] - 2s 40us/step - loss: 1.0562 - acc: 0.6230 - val_loss: 1.3989 - val_acc: 0.5195\n",
            "Epoch 26/100\n",
            "50000/50000 [==============================] - 2s 39us/step - loss: 1.0322 - acc: 0.6325 - val_loss: 1.4235 - val_acc: 0.5189\n",
            "Epoch 27/100\n",
            "50000/50000 [==============================] - 2s 38us/step - loss: 1.0220 - acc: 0.6363 - val_loss: 1.4091 - val_acc: 0.5203\n",
            "Epoch 28/100\n",
            "50000/50000 [==============================] - 2s 38us/step - loss: 0.9977 - acc: 0.6449 - val_loss: 1.3957 - val_acc: 0.5273\n",
            "Epoch 29/100\n",
            "50000/50000 [==============================] - 2s 40us/step - loss: 0.9823 - acc: 0.6498 - val_loss: 1.4122 - val_acc: 0.5221\n",
            "Epoch 30/100\n",
            "50000/50000 [==============================] - 2s 39us/step - loss: 0.9581 - acc: 0.6607 - val_loss: 1.4203 - val_acc: 0.5212\n",
            "Epoch 31/100\n",
            "50000/50000 [==============================] - 2s 38us/step - loss: 0.9502 - acc: 0.6621 - val_loss: 1.4238 - val_acc: 0.5242\n",
            "Epoch 32/100\n",
            "50000/50000 [==============================] - 2s 38us/step - loss: 0.9305 - acc: 0.6707 - val_loss: 1.4398 - val_acc: 0.5255\n",
            "Epoch 33/100\n",
            "50000/50000 [==============================] - 2s 38us/step - loss: 0.9124 - acc: 0.6725 - val_loss: 1.4836 - val_acc: 0.5117\n",
            "Epoch 34/100\n",
            "50000/50000 [==============================] - 2s 38us/step - loss: 0.8952 - acc: 0.6830 - val_loss: 1.4866 - val_acc: 0.5199\n",
            "Epoch 35/100\n",
            "50000/50000 [==============================] - 2s 37us/step - loss: 0.8764 - acc: 0.6884 - val_loss: 1.4663 - val_acc: 0.5229\n",
            "Epoch 36/100\n",
            "50000/50000 [==============================] - 2s 38us/step - loss: 0.8583 - acc: 0.6927 - val_loss: 1.4691 - val_acc: 0.5297\n",
            "Epoch 37/100\n",
            "50000/50000 [==============================] - 2s 38us/step - loss: 0.8474 - acc: 0.6960 - val_loss: 1.4791 - val_acc: 0.5220\n",
            "Epoch 38/100\n",
            "50000/50000 [==============================] - 2s 38us/step - loss: 0.8326 - acc: 0.7031 - val_loss: 1.5387 - val_acc: 0.5179\n",
            "Epoch 39/100\n",
            "50000/50000 [==============================] - 2s 38us/step - loss: 0.8131 - acc: 0.7089 - val_loss: 1.5377 - val_acc: 0.5097\n",
            "Epoch 40/100\n",
            "50000/50000 [==============================] - 2s 38us/step - loss: 0.8050 - acc: 0.7126 - val_loss: 1.5583 - val_acc: 0.5139\n",
            "Epoch 41/100\n",
            "50000/50000 [==============================] - 2s 38us/step - loss: 0.7949 - acc: 0.7169 - val_loss: 1.5797 - val_acc: 0.5184\n",
            "Epoch 42/100\n",
            "50000/50000 [==============================] - 2s 37us/step - loss: 0.7791 - acc: 0.7211 - val_loss: 1.5692 - val_acc: 0.5176\n",
            "Epoch 43/100\n",
            "50000/50000 [==============================] - 2s 37us/step - loss: 0.7487 - acc: 0.7334 - val_loss: 1.5661 - val_acc: 0.5261\n",
            "Epoch 44/100\n",
            "50000/50000 [==============================] - 2s 38us/step - loss: 0.7411 - acc: 0.7338 - val_loss: 1.6286 - val_acc: 0.5174\n",
            "Epoch 45/100\n",
            "50000/50000 [==============================] - 2s 37us/step - loss: 0.7126 - acc: 0.7463 - val_loss: 1.6684 - val_acc: 0.5113\n",
            "Epoch 46/100\n",
            "50000/50000 [==============================] - 2s 38us/step - loss: 0.7164 - acc: 0.7427 - val_loss: 1.6701 - val_acc: 0.5183\n",
            "Epoch 47/100\n",
            "50000/50000 [==============================] - 2s 38us/step - loss: 0.7074 - acc: 0.7473 - val_loss: 1.6724 - val_acc: 0.5139\n",
            "Epoch 48/100\n",
            "50000/50000 [==============================] - 2s 39us/step - loss: 0.6797 - acc: 0.7564 - val_loss: 1.7253 - val_acc: 0.5212\n",
            "Epoch 49/100\n",
            "50000/50000 [==============================] - 2s 39us/step - loss: 0.6709 - acc: 0.7612 - val_loss: 1.7135 - val_acc: 0.5232\n",
            "Epoch 50/100\n",
            "50000/50000 [==============================] - 2s 40us/step - loss: 0.6597 - acc: 0.7659 - val_loss: 1.7985 - val_acc: 0.5161\n",
            "Epoch 51/100\n",
            "50000/50000 [==============================] - 2s 39us/step - loss: 0.6502 - acc: 0.7679 - val_loss: 1.8199 - val_acc: 0.5155\n",
            "Epoch 52/100\n",
            "50000/50000 [==============================] - 2s 39us/step - loss: 0.6341 - acc: 0.7751 - val_loss: 1.8247 - val_acc: 0.5144\n",
            "Epoch 53/100\n",
            "50000/50000 [==============================] - 2s 39us/step - loss: 0.6160 - acc: 0.7815 - val_loss: 1.8176 - val_acc: 0.5137\n",
            "Epoch 54/100\n",
            "50000/50000 [==============================] - 2s 36us/step - loss: 0.6217 - acc: 0.7774 - val_loss: 1.8247 - val_acc: 0.5135\n",
            "Epoch 55/100\n",
            "50000/50000 [==============================] - 2s 35us/step - loss: 0.5959 - acc: 0.7872 - val_loss: 1.9184 - val_acc: 0.5078\n",
            "Epoch 56/100\n",
            "50000/50000 [==============================] - 2s 35us/step - loss: 0.5991 - acc: 0.7854 - val_loss: 1.8682 - val_acc: 0.5065\n",
            "Epoch 57/100\n",
            "50000/50000 [==============================] - 2s 36us/step - loss: 0.5775 - acc: 0.7951 - val_loss: 1.9273 - val_acc: 0.5102\n",
            "Epoch 58/100\n",
            "50000/50000 [==============================] - 2s 36us/step - loss: 0.5686 - acc: 0.7964 - val_loss: 1.9580 - val_acc: 0.5077\n",
            "Epoch 59/100\n",
            "50000/50000 [==============================] - 2s 35us/step - loss: 0.5510 - acc: 0.8036 - val_loss: 2.0319 - val_acc: 0.5012\n",
            "Epoch 60/100\n",
            "50000/50000 [==============================] - 2s 36us/step - loss: 0.5686 - acc: 0.7955 - val_loss: 1.9584 - val_acc: 0.5079\n",
            "Epoch 61/100\n",
            "50000/50000 [==============================] - 2s 36us/step - loss: 0.5356 - acc: 0.8102 - val_loss: 1.9905 - val_acc: 0.5052\n",
            "Epoch 62/100\n",
            "50000/50000 [==============================] - 2s 36us/step - loss: 0.5264 - acc: 0.8125 - val_loss: 2.0827 - val_acc: 0.5055\n",
            "Epoch 63/100\n",
            "50000/50000 [==============================] - 2s 35us/step - loss: 0.5201 - acc: 0.8140 - val_loss: 2.0717 - val_acc: 0.5110\n",
            "Epoch 64/100\n",
            "50000/50000 [==============================] - 2s 36us/step - loss: 0.5093 - acc: 0.8176 - val_loss: 2.1303 - val_acc: 0.5026\n",
            "Epoch 65/100\n",
            "50000/50000 [==============================] - 2s 36us/step - loss: 0.5024 - acc: 0.8214 - val_loss: 2.1623 - val_acc: 0.5051\n",
            "Epoch 66/100\n",
            "50000/50000 [==============================] - 2s 36us/step - loss: 0.4915 - acc: 0.8256 - val_loss: 2.1333 - val_acc: 0.5087\n",
            "Epoch 67/100\n",
            "50000/50000 [==============================] - 2s 36us/step - loss: 0.4837 - acc: 0.8257 - val_loss: 2.2034 - val_acc: 0.5069\n",
            "Epoch 68/100\n",
            "50000/50000 [==============================] - 2s 36us/step - loss: 0.4699 - acc: 0.8308 - val_loss: 2.2609 - val_acc: 0.5067\n",
            "Epoch 69/100\n",
            "50000/50000 [==============================] - 2s 36us/step - loss: 0.4664 - acc: 0.8349 - val_loss: 2.2774 - val_acc: 0.4855\n",
            "Epoch 70/100\n",
            "50000/50000 [==============================] - 2s 36us/step - loss: 0.4741 - acc: 0.8295 - val_loss: 2.2606 - val_acc: 0.5127\n",
            "Epoch 71/100\n",
            "50000/50000 [==============================] - 2s 35us/step - loss: 0.4537 - acc: 0.8368 - val_loss: 2.2742 - val_acc: 0.5109\n",
            "Epoch 72/100\n",
            "50000/50000 [==============================] - 2s 36us/step - loss: 0.4357 - acc: 0.8453 - val_loss: 2.2895 - val_acc: 0.5124\n",
            "Epoch 73/100\n",
            "50000/50000 [==============================] - 2s 36us/step - loss: 0.4395 - acc: 0.8426 - val_loss: 2.3592 - val_acc: 0.5004\n",
            "Epoch 74/100\n",
            "50000/50000 [==============================] - 2s 35us/step - loss: 0.4379 - acc: 0.8448 - val_loss: 2.4083 - val_acc: 0.5065\n",
            "Epoch 75/100\n",
            "50000/50000 [==============================] - 2s 35us/step - loss: 0.4347 - acc: 0.8436 - val_loss: 2.3890 - val_acc: 0.4994\n",
            "Epoch 76/100\n",
            "50000/50000 [==============================] - 2s 35us/step - loss: 0.4214 - acc: 0.8504 - val_loss: 2.4057 - val_acc: 0.4973\n",
            "Epoch 77/100\n",
            "50000/50000 [==============================] - 2s 35us/step - loss: 0.4042 - acc: 0.8567 - val_loss: 2.4459 - val_acc: 0.5038\n",
            "Epoch 78/100\n",
            "50000/50000 [==============================] - 2s 35us/step - loss: 0.3950 - acc: 0.8598 - val_loss: 2.4077 - val_acc: 0.5104\n",
            "Epoch 79/100\n",
            "50000/50000 [==============================] - 2s 35us/step - loss: 0.3958 - acc: 0.8589 - val_loss: 2.5565 - val_acc: 0.4980\n",
            "Epoch 80/100\n",
            "50000/50000 [==============================] - 2s 35us/step - loss: 0.3803 - acc: 0.8648 - val_loss: 2.5086 - val_acc: 0.5036\n",
            "Epoch 81/100\n",
            "50000/50000 [==============================] - 2s 35us/step - loss: 0.3735 - acc: 0.8680 - val_loss: 2.6334 - val_acc: 0.4914\n",
            "Epoch 82/100\n",
            "50000/50000 [==============================] - 2s 35us/step - loss: 0.4032 - acc: 0.8561 - val_loss: 2.6788 - val_acc: 0.4995\n",
            "Epoch 83/100\n",
            "50000/50000 [==============================] - 2s 35us/step - loss: 0.3958 - acc: 0.8585 - val_loss: 2.5855 - val_acc: 0.4994\n",
            "Epoch 84/100\n",
            "50000/50000 [==============================] - 2s 35us/step - loss: 0.3842 - acc: 0.8630 - val_loss: 2.6119 - val_acc: 0.5014\n",
            "Epoch 85/100\n",
            "50000/50000 [==============================] - 2s 35us/step - loss: 0.3386 - acc: 0.8795 - val_loss: 2.7379 - val_acc: 0.4927\n",
            "Epoch 86/100\n",
            "50000/50000 [==============================] - 2s 35us/step - loss: 0.3665 - acc: 0.8685 - val_loss: 2.6749 - val_acc: 0.4971\n",
            "Epoch 87/100\n",
            "50000/50000 [==============================] - 2s 36us/step - loss: 0.3475 - acc: 0.8746 - val_loss: 2.7056 - val_acc: 0.4961\n",
            "Epoch 88/100\n",
            "50000/50000 [==============================] - 2s 35us/step - loss: 0.3500 - acc: 0.8738 - val_loss: 2.7774 - val_acc: 0.4977\n",
            "Epoch 89/100\n",
            "50000/50000 [==============================] - 2s 36us/step - loss: 0.3633 - acc: 0.8697 - val_loss: 2.7038 - val_acc: 0.4967\n",
            "Epoch 90/100\n",
            "50000/50000 [==============================] - 2s 36us/step - loss: 0.3531 - acc: 0.8726 - val_loss: 2.7771 - val_acc: 0.4949\n",
            "Epoch 91/100\n",
            "50000/50000 [==============================] - 2s 35us/step - loss: 0.3292 - acc: 0.8818 - val_loss: 2.8518 - val_acc: 0.4967\n",
            "Epoch 92/100\n",
            "50000/50000 [==============================] - 2s 35us/step - loss: 0.3319 - acc: 0.8815 - val_loss: 2.8849 - val_acc: 0.5027\n",
            "Epoch 93/100\n",
            "50000/50000 [==============================] - 2s 35us/step - loss: 0.2996 - acc: 0.8937 - val_loss: 2.9122 - val_acc: 0.4912\n",
            "Epoch 94/100\n",
            "50000/50000 [==============================] - 2s 35us/step - loss: 0.3332 - acc: 0.8800 - val_loss: 2.8184 - val_acc: 0.5003\n",
            "Epoch 95/100\n",
            "50000/50000 [==============================] - 2s 35us/step - loss: 0.3213 - acc: 0.8842 - val_loss: 3.0642 - val_acc: 0.4902\n",
            "Epoch 96/100\n",
            "50000/50000 [==============================] - 2s 35us/step - loss: 0.3377 - acc: 0.8778 - val_loss: 2.9181 - val_acc: 0.4911\n",
            "Epoch 97/100\n",
            "50000/50000 [==============================] - 2s 35us/step - loss: 0.3242 - acc: 0.8828 - val_loss: 3.0127 - val_acc: 0.5020\n",
            "Epoch 98/100\n",
            "50000/50000 [==============================] - 2s 35us/step - loss: 0.3149 - acc: 0.8872 - val_loss: 3.0195 - val_acc: 0.4997\n",
            "Epoch 99/100\n",
            "50000/50000 [==============================] - 2s 35us/step - loss: 0.2822 - acc: 0.8988 - val_loss: 3.0972 - val_acc: 0.4962\n",
            "Epoch 100/100\n",
            "50000/50000 [==============================] - 2s 35us/step - loss: 0.2854 - acc: 0.8984 - val_loss: 3.0597 - val_acc: 0.4986\n"
          ],
          "name": "stdout"
        },
        {
          "output_type": "execute_result",
          "data": {
            "text/plain": [
              "<keras.callbacks.History at 0x7fe2080faa90>"
            ]
          },
          "metadata": {
            "tags": []
          },
          "execution_count": 11
        }
      ]
    },
    {
      "cell_type": "code",
      "metadata": {
        "id": "xzN13nUm6Qav",
        "colab_type": "code",
        "colab": {
          "base_uri": "https://localhost:8080/",
          "height": 545
        },
        "outputId": "c0cdc719-15e1-40b0-c40f-33cefc3edeb3"
      },
      "source": [
        "import matplotlib.pyplot as plt\n",
        "\n",
        "\n",
        "train_loss = model.history.history[\"loss\"]\n",
        "valid_loss = model.history.history[\"val_loss\"]\n",
        "\n",
        "train_acc = model.history.history[\"acc\"]\n",
        "valid_acc = model.history.history[\"val_acc\"]\n",
        "\n",
        "plt.plot(range(len(train_loss)), train_loss, label=\"train loss\")\n",
        "plt.plot(range(len(valid_loss)), valid_loss, label=\"valid loss\")\n",
        "plt.legend()\n",
        "plt.title(\"Loss\")\n",
        "plt.show()\n",
        "\n",
        "plt.plot(range(len(train_acc)), train_acc, label=\"train accuracy\")\n",
        "plt.plot(range(len(valid_acc)), valid_acc, label=\"valid accuracy\")\n",
        "plt.legend()\n",
        "plt.title(\"Accuracy\")\n",
        "plt.show()"
      ],
      "execution_count": 12,
      "outputs": [
        {
          "output_type": "display_data",
          "data": {
            "image/png": "[encoded data removed]",
            "text/plain": [
              "<Figure size 432x288 with 1 Axes>"
            ]
          },
          "metadata": {
            "tags": []
          }
        },
        {
          "output_type": "display_data",
          "data": {
            "image/png": "[encoded data removed]",
            "text/plain": [
              "<Figure size 432x288 with 1 Axes>"
            ]
          },
          "metadata": {
            "tags": []
          }
        }
      ]
    }
  ]
}