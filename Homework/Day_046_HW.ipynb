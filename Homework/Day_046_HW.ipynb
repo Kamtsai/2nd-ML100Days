{
 "cells": [
  {
   "cell_type": "markdown",
   "metadata": {},
   "source": [
    "### 作業\n",
    "目前已經學過許多的模型，相信大家對整體流程應該比較掌握了，這次作業請改用**手寫辨識資料集**，步驟流程都是一樣的，請試著自己撰寫程式碼來完成所有步驟"
   ]
  },
  {
   "cell_type": "code",
   "execution_count": 3,
   "metadata": {},
   "outputs": [],
   "source": [
    "from sklearn import datasets, metrics\n",
    "from sklearn.ensemble import GradientBoostingClassifier\n",
    "from sklearn.model_selection import train_test_split"
   ]
  },
  {
   "cell_type": "code",
   "execution_count": 1,
   "metadata": {},
   "outputs": [],
   "source": [
    "from sklearn import datasets, metrics\n",
    "digits = datasets.load_digits()"
   ]
  },
  {
   "cell_type": "code",
   "execution_count": 10,
   "metadata": {},
   "outputs": [
    {
     "data": {
      "text/plain": [
       "<Figure size 432x288 with 0 Axes>"
      ]
     },
     "metadata": {},
     "output_type": "display_data"
    },
    {
     "data": {
      "image/png": "[encoded data removed]",
      "text/plain": [
       "<Figure size 288x288 with 1 Axes>"
      ]
     },
     "metadata": {},
     "output_type": "display_data"
    }
   ],
   "source": [
    "import matplotlib.pyplot as plt \n",
    "plt.gray() \n",
    "plt.matshow(digits.images[12]) \n",
    "plt.show() "
   ]
  },
  {
   "cell_type": "code",
   "execution_count": 4,
   "metadata": {},
   "outputs": [],
   "source": [
    "# 切分訓練集/測試集\n",
    "x_train, x_test, y_train, y_test = train_test_split(digits.data, digits.target, test_size=0.25, random_state=4)\n",
    "\n",
    "# 建立模型\n",
    "clf = GradientBoostingClassifier()\n",
    "\n",
    "# 訓練模型\n",
    "clf.fit(x_train, y_train)\n",
    "\n",
    "# 預測測試集\n",
    "y_pred = clf.predict(x_test)"
   ]
  },
  {
   "cell_type": "code",
   "execution_count": 5,
   "metadata": {},
   "outputs": [
    {
     "name": "stdout",
     "output_type": "stream",
     "text": [
      "Accuracy:  0.9666666666666667\n"
     ]
    }
   ],
   "source": [
    "acc = metrics.accuracy_score(y_test, y_pred)\n",
    "print(\"Accuracy: \", acc)"
   ]
  },
  {
   "cell_type": "code",
   "execution_count": 7,
   "metadata": {},
   "outputs": [
    {
     "name": "stdout",
     "output_type": "stream",
     "text": [
      "Feature importance:  [0.00000000e+00 3.50246674e-03 1.75727010e-02 1.82174148e-02\n",
      " 1.48770784e-02 1.65184221e-02 1.38254265e-02 4.02459481e-03\n",
      " 0.00000000e+00 9.45230660e-03 1.11074544e-02 5.47465734e-03\n",
      " 1.57286723e-02 3.60583006e-02 1.68083545e-02 5.82065869e-04\n",
      " 1.37201865e-03 1.42810646e-02 2.11235293e-02 4.15666027e-02\n",
      " 1.80493977e-02 5.33786484e-02 1.60203266e-02 2.79387827e-05\n",
      " 1.00421972e-03 5.63342900e-03 3.26875186e-02 2.54233954e-02\n",
      " 2.68413246e-02 1.92066226e-02 1.44688599e-02 1.10379517e-03\n",
      " 0.00000000e+00 1.94247868e-02 2.59284428e-02 9.73306602e-03\n",
      " 3.82278637e-02 1.32564544e-02 2.60704124e-02 0.00000000e+00\n",
      " 0.00000000e+00 8.79013097e-03 4.19400669e-02 3.36400931e-02\n",
      " 1.67720928e-02 1.38505523e-02 1.31872818e-02 9.26294721e-05\n",
      " 0.00000000e+00 7.02659576e-03 2.37328680e-02 3.01314867e-02\n",
      " 1.03603766e-02 2.68411488e-02 2.14090918e-02 3.87852627e-03\n",
      " 0.00000000e+00 2.07123056e-03 2.11160507e-02 9.16228387e-03\n",
      " 3.72875366e-02 2.06769998e-02 8.19526513e-03 1.22580584e-02]\n"
     ]
    }
   ],
   "source": [
    "print(\"Feature importance: \", clf.feature_importances_)"
   ]
  },
  {
   "cell_type": "code",
   "execution_count": null,
   "metadata": {},
   "outputs": [],
   "source": []
  }
 ],
 "metadata": {
  "kernelspec": {
   "display_name": "Python 3",
   "language": "python",
   "name": "python3"
  },
  "language_info": {
   "codemirror_mode": {
    "name": "ipython",
    "version": 3
   },
   "file_extension": ".py",
   "mimetype": "text/x-python",
   "name": "python",
   "nbconvert_exporter": "python",
   "pygments_lexer": "ipython3",
   "version": "3.6.4"
  }
 },
 "nbformat": 4,
 "nbformat_minor": 2
}
