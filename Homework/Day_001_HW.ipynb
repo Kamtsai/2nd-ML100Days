{
 "cells": [
  {
   "cell_type": "markdown",
   "metadata": {},
   "source": [
    "作業1：\n",
    "\n",
    "請上 Kaggle, 在 Competitions 或 Dataset 中找一組競賽或資料並寫下：\n",
    "\n",
    "1. 你選的這組資料為何重要\n",
    "\n",
    "2. 資料從何而來 (tips: 譬如提供者是誰、以什麼方式蒐集)\n",
    "\n",
    "3. 蒐集而來的資料型態為何\n",
    "\n",
    "4. 這組資料想解決的問題如何評估"
   ]
  },
  {
   "cell_type": "markdown",
   "metadata": {},
   "source": [
    "Dataset: Telco Customer Churn   Link:https://www.kaggle.com/blastchar/telco-customer-churn\n",
    "1. It's an interest issue to retain the customer. To develop the reteintion programs, We'd like to find out the key factor of loyalty.  \n",
    "\n",
    "2. IBM Sample Data Sets, including Services item, Customer account information, Demographic info.\n",
    "\n",
    "3. Structured data, including the 'str','float'.\n",
    "\n",
    "4. Predict who will churn within the last month. Confusion matrix is well-recommended.\n",
    "\n"
   ]
  },
  {
   "cell_type": "code",
   "execution_count": null,
   "metadata": {},
   "outputs": [],
   "source": []
  },
  {
   "cell_type": "markdown",
   "metadata": {},
   "source": [
    "作業2：\n",
    "\n",
    "想像你經營一個自由載客車隊，你希望能透過數據分析以提升業績，請你思考並描述你如何規劃整體的分析/解決方案：\n",
    "\n",
    "1. 核心問題為何 (tips：如何定義 「提升業績 & 你的假設」)\n",
    "\n",
    "2. 資料從何而來 (tips：哪些資料可能會對你想問的問題產生影響 & 資料如何蒐集)\n",
    "\n",
    "3. 蒐集而來的資料型態為何\n",
    "\n",
    "4. 你要回答的問題，其如何評估 (tips：你的假設如何驗證)"
   ]
  },
  {
   "cell_type": "markdown",
   "metadata": {},
   "source": [
    "1. To increase the total sales of the transportation company.We can focus on 2 issues.\n",
    "    Issue 1 : To reduse the empty rate.\n",
    "    Issue 2 : To reduse the waiting time of customers and drivers.\n",
    " \n",
    "2. The records of trips, including pickup time, durations, geo-coordinates, number of passengers or some demo info.\n",
    "\n",
    "3. Structured data, including the 'str','float'.\n",
    "\n",
    "4. Issue 1 :The decrease of empty rate.(Trip duration/Car Working hour)\n",
    "   Issue 2 :The decrease of average waiting time.\n"
   ]
  },
  {
   "cell_type": "code",
   "execution_count": null,
   "metadata": {},
   "outputs": [],
   "source": []
  }
 ],
 "metadata": {
  "kernelspec": {
   "display_name": "Python 3",
   "language": "python",
   "name": "python3"
  },
  "language_info": {
   "codemirror_mode": {
    "name": "ipython",
    "version": 3
   },
   "file_extension": ".py",
   "mimetype": "text/x-python",
   "name": "python",
   "nbconvert_exporter": "python",
   "pygments_lexer": "ipython3",
   "version": "3.6.4"
  }
 },
 "nbformat": 4,
 "nbformat_minor": 2
}
